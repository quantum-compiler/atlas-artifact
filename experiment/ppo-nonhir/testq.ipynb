{
 "cells": [
  {
   "cell_type": "code",
   "execution_count": 7,
   "metadata": {},
   "outputs": [],
   "source": [
    "from typing import List\n",
    "import quartz # type: ignore\n",
    "import time\n",
    "import dgl\n",
    "\n",
    "quartz_context = None\n",
    "\n",
    "def init_quartz_context(\n",
    "    gate_set: List[str] = ['h', 'cx', 'x', 'rz', 'add'],\n",
    "    ecc_file_path: str = '../ecc_set/nam_ecc.json',\n",
    "    no_increase: bool = False,\n",
    "    include_nop: bool = True,\n",
    "):\n",
    "    global quartz_context\n",
    "    quartz_context = quartz.QuartzContext(\n",
    "        gate_set=gate_set,\n",
    "        filename=ecc_file_path,\n",
    "        no_increase=no_increase,\n",
    "        include_nop=include_nop,\n",
    "    )\n",
    "    return quartz_context\n",
    "\n",
    "def qasm_to_graph(qasm_str: str) -> quartz.PyGraph:\n",
    "    graph = quartz.PyGraph.from_qasm_str(context=quartz_context, qasm_str=qasm_str)\n",
    "    return graph\n",
    "\n",
    "def file_to_graph(filename: str) -> quartz.PyGraph:\n",
    "    with open(filename, 'r') as f:\n",
    "        qasm_str = f.read()\n",
    "    return qasm_to_graph(qasm_str)\n",
    "\n",
    "def is_nop(xfer_id: int) -> bool:\n",
    "    return quartz_context.get_xfer_from_id(id=xfer_id).is_nop"
   ]
  },
  {
   "cell_type": "code",
   "execution_count": 5,
   "metadata": {},
   "outputs": [
    {
     "name": "stdout",
     "output_type": "stream",
     "text": [
      "1105\n"
     ]
    }
   ],
   "source": [
    "init_quartz_context(\n",
    "    gate_set=['h', 'cz', 'rz', 'rx1', 'rx3', 'x', 'add'],\n",
    "    ecc_file_path='../ecc_set/rigetti_5_ecc.json',\n",
    "    no_increase=False,\n",
    "    include_nop=True,\n",
    ")\n",
    "qasm_file = '../rigetti_circs/twolocalrandom_nativegates_rigetti_qiskit_opt0_10_norm.qasm'\n",
    "graph = file_to_graph(qasm_file)\n",
    "print(graph.gate_count)"
   ]
  },
  {
   "cell_type": "code",
   "execution_count": 13,
   "metadata": {},
   "outputs": [
    {
     "name": "stdout",
     "output_type": "stream",
     "text": [
      "4285\n",
      "subg = Graph(num_nodes=23, num_edges=56,\n",
      "      ndata_schemes={'gate_type': Scheme(shape=(), dtype=torch.int32), '_ID': Scheme(shape=(), dtype=torch.int64)}\n",
      "      edata_schemes={'src_idx': Scheme(shape=(), dtype=torch.int32), 'dst_idx': Scheme(shape=(), dtype=torch.int32), 'reversed': Scheme(shape=(), dtype=torch.int32), '_ID': Scheme(shape=(), dtype=torch.int64)})\n",
      "new_indices = tensor([1])\n",
      "subg.ndata[\"gate_type\"].shape = torch.Size([23])\n",
      "new_indices.shape = torch.Size([1])\n"
     ]
    }
   ],
   "source": [
    "init_quartz_context(\n",
    "    gate_set=['h', 'cx', 'x', 'rz', 'add'],\n",
    "    ecc_file_path='../ecc_set/nam_ecc.json',\n",
    "    no_increase=False,\n",
    "    include_nop=True,\n",
    ")\n",
    "qasm_file = '../nam_circs/mod_adder_1024.qasm'\n",
    "graph = file_to_graph(qasm_file)\n",
    "print(graph.gate_count)\n",
    "\n",
    "g1 = graph.to_dgl_graph()\n",
    "subg, new_indices = dgl.khop_out_subgraph(g1, 10, k=6)\n",
    "print(f'{subg = }\\n{new_indices = }\\n{subg.ndata[\"gate_type\"].shape = }')\n",
    "print(f'{new_indices.shape = }')"
   ]
  },
  {
   "cell_type": "code",
   "execution_count": null,
   "metadata": {},
   "outputs": [],
   "source": []
  }
 ],
 "metadata": {
  "kernelspec": {
   "display_name": "Python 3.10.4 ('quartz')",
   "language": "python",
   "name": "python3"
  },
  "language_info": {
   "codemirror_mode": {
    "name": "ipython",
    "version": 3
   },
   "file_extension": ".py",
   "mimetype": "text/x-python",
   "name": "python",
   "nbconvert_exporter": "python",
   "pygments_lexer": "ipython3",
   "version": "3.10.4"
  },
  "orig_nbformat": 4,
  "vscode": {
   "interpreter": {
    "hash": "727000391658140de014f09a2cefd280fa828086dc8cb8d0493b0ec43fb35302"
   }
  }
 },
 "nbformat": 4,
 "nbformat_minor": 2
}
